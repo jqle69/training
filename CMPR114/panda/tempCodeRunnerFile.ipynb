import pandas as pd

df = pd.read_csv('c:\\Users\\17147\\Desktop\\CMPR114\\panda\\pokemon_data.csv')

print(df.head(5))